{
  "nbformat": 4,
  "nbformat_minor": 0,
  "metadata": {
    "kernelspec": {
      "display_name": "Python 3",
      "language": "python",
      "name": "python3"
    },
    "language_info": {
      "codemirror_mode": {
        "name": "ipython",
        "version": 3
      },
      "file_extension": ".py",
      "mimetype": "text/x-python",
      "name": "python",
      "nbconvert_exporter": "python",
      "pygments_lexer": "ipython3",
      "version": "3.8.2"
    },
    "colab": {
      "name": "Python- Deep Learning.ipynb",
      "provenance": [],
      "include_colab_link": true
    },
    "accelerator": "TPU"
  },
  "cells": [
    {
      "cell_type": "markdown",
      "metadata": {
        "id": "view-in-github",
        "colab_type": "text"
      },
      "source": [
        "<a href=\"https://colab.research.google.com/github/gloriamaj/-Red-Shift-Happens/blob/main/Python_Deep_Learning.ipynb\" target=\"_parent\"><img src=\"https://colab.research.google.com/assets/colab-badge.svg\" alt=\"Open In Colab\"/></a>"
      ]
    },
    {
      "cell_type": "code",
      "metadata": {
        "id": "fqPerCDFEDQQ"
      },
      "source": [
        "import pandas as pd\n",
        "import numpy as np\n",
        "from keras.models import Sequential\n",
        "from keras.layers import Dense\n",
        "from keras.wrappers.scikit_learn import KerasClassifier\n",
        "from keras.utils import np_utils\n",
        "from sklearn.model_selection import cross_val_score\n",
        "from sklearn.model_selection import KFold\n",
        "from sklearn.preprocessing import  LabelEncoder\n",
        "from sklearn.pipeline import Pipeline\n",
        "import math\n"
      ],
      "execution_count": 1,
      "outputs": []
    },
    {
      "cell_type": "code",
      "metadata": {
        "id": "XnWcCLxxEDQT"
      },
      "source": [
        "df = pd.read_csv(\"cleaned_datafinal.csv\")\n"
      ],
      "execution_count": 2,
      "outputs": []
    },
    {
      "cell_type": "code",
      "metadata": {
        "id": "Mig8J6LlEDQU"
      },
      "source": [
        "#Dropping the columns that are unnecessary\n",
        "df = df.drop(['name', 'release_date', 'is_popular', 'year', 'popularity', 'id_artists', 'artist1', 'artist2', 'artist3','artist4'], axis = 1)"
      ],
      "execution_count": 3,
      "outputs": []
    },
    {
      "cell_type": "code",
      "metadata": {
        "colab": {
          "base_uri": "https://localhost:8080/",
          "height": 241
        },
        "id": "QNsX7r5DEDQV",
        "outputId": "284fe0b2-6199-4981-9193-728a1576cc86"
      },
      "source": [
        "df.head()"
      ],
      "execution_count": 4,
      "outputs": [
        {
          "output_type": "execute_result",
          "data": {
            "text/html": [
              "<div>\n",
              "<style scoped>\n",
              "    .dataframe tbody tr th:only-of-type {\n",
              "        vertical-align: middle;\n",
              "    }\n",
              "\n",
              "    .dataframe tbody tr th {\n",
              "        vertical-align: top;\n",
              "    }\n",
              "\n",
              "    .dataframe thead th {\n",
              "        text-align: right;\n",
              "    }\n",
              "</style>\n",
              "<table border=\"1\" class=\"dataframe\">\n",
              "  <thead>\n",
              "    <tr style=\"text-align: right;\">\n",
              "      <th></th>\n",
              "      <th>Unnamed: 0</th>\n",
              "      <th>duration_ms</th>\n",
              "      <th>explicit</th>\n",
              "      <th>danceability</th>\n",
              "      <th>energy</th>\n",
              "      <th>key</th>\n",
              "      <th>loudness</th>\n",
              "      <th>mode</th>\n",
              "      <th>speechiness</th>\n",
              "      <th>acousticness</th>\n",
              "      <th>instrumentalness</th>\n",
              "      <th>liveness</th>\n",
              "      <th>valence</th>\n",
              "      <th>tempo</th>\n",
              "      <th>time_signature</th>\n",
              "      <th>n_artists</th>\n",
              "      <th>decade</th>\n",
              "    </tr>\n",
              "  </thead>\n",
              "  <tbody>\n",
              "    <tr>\n",
              "      <th>0</th>\n",
              "      <td>1</td>\n",
              "      <td>126903</td>\n",
              "      <td>0</td>\n",
              "      <td>0.645</td>\n",
              "      <td>0.4450</td>\n",
              "      <td>0</td>\n",
              "      <td>-13.338</td>\n",
              "      <td>1</td>\n",
              "      <td>0.4510</td>\n",
              "      <td>0.674</td>\n",
              "      <td>0.7440</td>\n",
              "      <td>0.151</td>\n",
              "      <td>0.127</td>\n",
              "      <td>104.851</td>\n",
              "      <td>3</td>\n",
              "      <td>1</td>\n",
              "      <td>1920.0</td>\n",
              "    </tr>\n",
              "    <tr>\n",
              "      <th>1</th>\n",
              "      <td>2</td>\n",
              "      <td>98200</td>\n",
              "      <td>0</td>\n",
              "      <td>0.695</td>\n",
              "      <td>0.2630</td>\n",
              "      <td>0</td>\n",
              "      <td>-22.136</td>\n",
              "      <td>1</td>\n",
              "      <td>0.9570</td>\n",
              "      <td>0.797</td>\n",
              "      <td>0.0000</td>\n",
              "      <td>0.148</td>\n",
              "      <td>0.655</td>\n",
              "      <td>102.009</td>\n",
              "      <td>1</td>\n",
              "      <td>1</td>\n",
              "      <td>1920.0</td>\n",
              "    </tr>\n",
              "    <tr>\n",
              "      <th>2</th>\n",
              "      <td>3</td>\n",
              "      <td>181640</td>\n",
              "      <td>0</td>\n",
              "      <td>0.434</td>\n",
              "      <td>0.1770</td>\n",
              "      <td>1</td>\n",
              "      <td>-21.180</td>\n",
              "      <td>1</td>\n",
              "      <td>0.0512</td>\n",
              "      <td>0.994</td>\n",
              "      <td>0.0218</td>\n",
              "      <td>0.212</td>\n",
              "      <td>0.457</td>\n",
              "      <td>130.418</td>\n",
              "      <td>5</td>\n",
              "      <td>1</td>\n",
              "      <td>1920.0</td>\n",
              "    </tr>\n",
              "    <tr>\n",
              "      <th>3</th>\n",
              "      <td>4</td>\n",
              "      <td>176907</td>\n",
              "      <td>0</td>\n",
              "      <td>0.321</td>\n",
              "      <td>0.0946</td>\n",
              "      <td>7</td>\n",
              "      <td>-27.961</td>\n",
              "      <td>1</td>\n",
              "      <td>0.0504</td>\n",
              "      <td>0.995</td>\n",
              "      <td>0.9180</td>\n",
              "      <td>0.104</td>\n",
              "      <td>0.397</td>\n",
              "      <td>169.980</td>\n",
              "      <td>3</td>\n",
              "      <td>1</td>\n",
              "      <td>1920.0</td>\n",
              "    </tr>\n",
              "    <tr>\n",
              "      <th>4</th>\n",
              "      <td>5</td>\n",
              "      <td>163080</td>\n",
              "      <td>0</td>\n",
              "      <td>0.402</td>\n",
              "      <td>0.1580</td>\n",
              "      <td>3</td>\n",
              "      <td>-16.900</td>\n",
              "      <td>0</td>\n",
              "      <td>0.0390</td>\n",
              "      <td>0.989</td>\n",
              "      <td>0.1300</td>\n",
              "      <td>0.311</td>\n",
              "      <td>0.196</td>\n",
              "      <td>103.220</td>\n",
              "      <td>4</td>\n",
              "      <td>1</td>\n",
              "      <td>1920.0</td>\n",
              "    </tr>\n",
              "  </tbody>\n",
              "</table>\n",
              "</div>"
            ],
            "text/plain": [
              "   Unnamed: 0  duration_ms  explicit  ...  time_signature  n_artists  decade\n",
              "0           1       126903         0  ...               3          1  1920.0\n",
              "1           2        98200         0  ...               1          1  1920.0\n",
              "2           3       181640         0  ...               5          1  1920.0\n",
              "3           4       176907         0  ...               3          1  1920.0\n",
              "4           5       163080         0  ...               4          1  1920.0\n",
              "\n",
              "[5 rows x 17 columns]"
            ]
          },
          "metadata": {
            "tags": []
          },
          "execution_count": 4
        }
      ]
    },
    {
      "cell_type": "code",
      "metadata": {
        "colab": {
          "base_uri": "https://localhost:8080/"
        },
        "id": "cQHh7ke5EDQW",
        "outputId": "7e5c80b7-5f11-495d-9cd9-7ffb98945717"
      },
      "source": [
        "#Length of Columns\n",
        "len(df.columns)"
      ],
      "execution_count": 5,
      "outputs": [
        {
          "output_type": "execute_result",
          "data": {
            "text/plain": [
              "17"
            ]
          },
          "metadata": {
            "tags": []
          },
          "execution_count": 5
        }
      ]
    },
    {
      "cell_type": "code",
      "metadata": {
        "colab": {
          "base_uri": "https://localhost:8080/"
        },
        "id": "zpaeF1T5EDQW",
        "outputId": "bfac4e98-ba16-4d08-e0fd-c9bf557787f8"
      },
      "source": [
        "df.iloc[478627,:]"
      ],
      "execution_count": 6,
      "outputs": [
        {
          "output_type": "execute_result",
          "data": {
            "text/plain": [
              "Unnamed: 0          478628.000000\n",
              "duration_ms         233920.000000\n",
              "explicit                 0.000000\n",
              "danceability             0.659000\n",
              "energy                   0.791000\n",
              "key                      2.000000\n",
              "loudness                -4.895000\n",
              "mode                     1.000000\n",
              "speechiness              0.029500\n",
              "acousticness             0.139000\n",
              "instrumentalness         0.000002\n",
              "liveness                 0.161000\n",
              "valence                  0.956000\n",
              "tempo                  141.999000\n",
              "time_signature           4.000000\n",
              "n_artists                1.000000\n",
              "decade                        NaN\n",
              "Name: 478627, dtype: float64"
            ]
          },
          "metadata": {
            "tags": []
          },
          "execution_count": 6
        }
      ]
    },
    {
      "cell_type": "code",
      "metadata": {
        "id": "GaOUn5eaEDQX"
      },
      "source": [
        "df.drop(478627, inplace = True)"
      ],
      "execution_count": 7,
      "outputs": []
    },
    {
      "cell_type": "code",
      "metadata": {
        "colab": {
          "base_uri": "https://localhost:8080/"
        },
        "id": "Vw2bG08KEDQX",
        "outputId": "6dccbdd0-c965-4b7b-f0f9-322fa3809729"
      },
      "source": [
        "df.iloc[478627,:]"
      ],
      "execution_count": 8,
      "outputs": [
        {
          "output_type": "execute_result",
          "data": {
            "text/plain": [
              "Unnamed: 0          478629.0000\n",
              "duration_ms         226355.0000\n",
              "explicit                 0.0000\n",
              "danceability             0.6040\n",
              "energy                   0.4290\n",
              "key                      9.0000\n",
              "loudness                -6.6510\n",
              "mode                     0.0000\n",
              "speechiness              0.0527\n",
              "acousticness             0.7410\n",
              "instrumentalness         0.0000\n",
              "liveness                 0.0563\n",
              "valence                  0.7570\n",
              "tempo                  185.6380\n",
              "time_signature           3.0000\n",
              "n_artists                1.0000\n",
              "decade                2010.0000\n",
              "Name: 478628, dtype: float64"
            ]
          },
          "metadata": {
            "tags": []
          },
          "execution_count": 8
        }
      ]
    },
    {
      "cell_type": "code",
      "metadata": {
        "id": "17rfzJTcEDQY"
      },
      "source": [
        "#Creating X and y\n",
        "X = df.iloc[:,0:16]\n",
        "Y = df.iloc[:,16]"
      ],
      "execution_count": 9,
      "outputs": []
    },
    {
      "cell_type": "code",
      "metadata": {
        "id": "fsn_WEp5EDQZ"
      },
      "source": [
        "#One hot encoding for decades\n",
        "encoder = LabelEncoder()\n",
        "encoder.fit(Y)\n",
        "encoded_Y = encoder.transform(Y)"
      ],
      "execution_count": 10,
      "outputs": []
    },
    {
      "cell_type": "code",
      "metadata": {
        "id": "aYUwEk8bEDQZ"
      },
      "source": [
        "dummy_Y = np_utils.to_categorical(encoded_Y)"
      ],
      "execution_count": 11,
      "outputs": []
    },
    {
      "cell_type": "code",
      "metadata": {
        "id": "sSZpksQgEDQa"
      },
      "source": [
        "# Defining the Neural Network Model\n",
        "\n",
        "def baseline_model():\n",
        "    model = Sequential()\n",
        "    model.add(Dense(3,input_dim = 16, activation = \"relu\"))\n",
        "    model.add(Dense(11,activation = \"softmax\"))\n",
        "    model.compile(loss = \"categorical_crossentropy\", optimizer = \"adam\", metrics = ['accuracy'])\n",
        "    return model"
      ],
      "execution_count": 12,
      "outputs": []
    },
    {
      "cell_type": "code",
      "metadata": {
        "id": "aplDxldsEDQa"
      },
      "source": [
        "estimator = KerasClassifier(build_fn = baseline_model, epochs = 10, batch_size = 5, verbose = 0)"
      ],
      "execution_count": 13,
      "outputs": []
    },
    {
      "cell_type": "code",
      "metadata": {
        "colab": {
          "base_uri": "https://localhost:8080/"
        },
        "id": "Tm8YPYchIuLM",
        "outputId": "69caa76c-d260-4abb-e2af-f3b4a645b8ea"
      },
      "source": [
        "dummy_Y[0]\n",
        "\n"
      ],
      "execution_count": 14,
      "outputs": [
        {
          "output_type": "execute_result",
          "data": {
            "text/plain": [
              "array([1., 0., 0., 0., 0., 0., 0., 0., 0., 0., 0.], dtype=float32)"
            ]
          },
          "metadata": {
            "tags": []
          },
          "execution_count": 14
        }
      ]
    },
    {
      "cell_type": "code",
      "metadata": {
        "id": "lesZ8fw6EDQa",
        "colab": {
          "base_uri": "https://localhost:8080/"
        },
        "outputId": "302e0eed-11e2-4f81-d8f8-2d83511241e8"
      },
      "source": [
        "#Evaluating the model with k-fold\n",
        "kfold  = KFold(n_splits = 10, shuffle = True)\n",
        "results = cross_val_score(estimator, X, dummy_Y, cv = kfold)\n",
        "print(\"Baseline: %.2f%% (%.2f%%)\" % (results.mean()*100, results.std()*100))"
      ],
      "execution_count": 15,
      "outputs": [
        {
          "output_type": "stream",
          "text": [
            "Baseline: 18.56% (0.11%)\n"
          ],
          "name": "stdout"
        }
      ]
    },
    {
      "cell_type": "code",
      "metadata": {
        "id": "--LGLYlrEDQb",
        "outputId": "a746dc37-950a-49c6-e68c-3c8b99adf9c1"
      },
      "source": [
        "X.dtypes"
      ],
      "execution_count": null,
      "outputs": [
        {
          "output_type": "execute_result",
          "data": {
            "text/plain": [
              "Unnamed: 0            int64\n",
              "duration_ms           int64\n",
              "explicit              int64\n",
              "danceability        float64\n",
              "energy              float64\n",
              "key                   int64\n",
              "loudness            float64\n",
              "mode                  int64\n",
              "speechiness         float64\n",
              "acousticness        float64\n",
              "instrumentalness    float64\n",
              "liveness            float64\n",
              "valence             float64\n",
              "tempo               float64\n",
              "time_signature        int64\n",
              "n_artists             int64\n",
              "dtype: object"
            ]
          },
          "metadata": {
            "tags": []
          },
          "execution_count": 106
        }
      ]
    },
    {
      "cell_type": "code",
      "metadata": {
        "id": "XT54bCY8EDQd",
        "outputId": "a069c38f-c364-4756-95e7-58e576b49ab8"
      },
      "source": [
        "Y.dtypes"
      ],
      "execution_count": null,
      "outputs": [
        {
          "output_type": "execute_result",
          "data": {
            "text/plain": [
              "dtype('float64')"
            ]
          },
          "metadata": {
            "tags": []
          },
          "execution_count": 107
        }
      ]
    },
    {
      "cell_type": "code",
      "metadata": {
        "id": "E4JbJSDfEDQd"
      },
      "source": [
        ""
      ],
      "execution_count": null,
      "outputs": []
    }
  ]
}